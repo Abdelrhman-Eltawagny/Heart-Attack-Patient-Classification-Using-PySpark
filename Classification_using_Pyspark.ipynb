{
  "cells": [
    {
      "cell_type": "markdown",
      "id": "22eb65db",
      "metadata": {
        "id": "22eb65db"
      },
      "source": [
        "## Introduction\n",
        ">Many people around the world suffer from a heart attack.A heart attack, also called a myocardial infarction, happens when a part of the heart muscle doesn’t get enough blood.The more time that passes without treatment to restore blood flow, the greater the damage to the heart muscle.Machine learning algorithms can predict a heart attack early, so we will be able to treat the patient early and avoid death due to a heart attack, and this is what we will do in this project."
      ]
    },
    {
      "cell_type": "code",
      "execution_count": null,
      "id": "9eda4c5f",
      "metadata": {
        "id": "9eda4c5f"
      },
      "outputs": [],
      "source": [
        "from pyspark.sql import SparkSession\n",
        "from pyspark.ml import Pipeline\n",
        "from pyspark.ml.feature import VectorAssembler\n",
        "from pyspark.ml.classification import LogisticRegression\n",
        "from pyspark.ml.evaluation import MulticlassClassificationEvaluator\n",
        "from pyspark.ml.feature import StandardScaler\n",
        "from empiricaldist import Pmf , Cdf\n",
        "import matplotlib.pyplot as plt\n",
        "import seaborn as sns\n",
        "import pandas as pd\n",
        "import numpy as np\n",
        "import scipy.stats as stats"
      ]
    },
    {
      "cell_type": "code",
      "execution_count": null,
      "id": "efe2e541",
      "metadata": {
        "id": "efe2e541"
      },
      "outputs": [],
      "source": [
        "spark = SparkSession.builder\\\n",
        "                    .appName('first_spark_application') \\\n",
        "                    .getOrCreate()"
      ]
    },
    {
      "cell_type": "code",
      "execution_count": null,
      "id": "4627e614",
      "metadata": {
        "id": "4627e614",
        "outputId": "50178c31-9fbe-4427-bc5c-471e77550f34"
      },
      "outputs": [
        {
          "name": "stdout",
          "output_type": "stream",
          "text": [
            "+---+---+---+--------+----+---+-------+-------+-----+-------+-----+---+----+------+\n",
            "|age|sex| cp|trestbps|chol|fbs|restecg|thalach|exang|oldpeak|slope| ca|thal|target|\n",
            "+---+---+---+--------+----+---+-------+-------+-----+-------+-----+---+----+------+\n",
            "| 52|  1|  0|     125| 212|  0|      1|    168|    0|    1.0|    2|  2|   3|     0|\n",
            "| 53|  1|  0|     140| 203|  1|      0|    155|    1|    3.1|    0|  0|   3|     0|\n",
            "| 70|  1|  0|     145| 174|  0|      1|    125|    1|    2.6|    0|  0|   3|     0|\n",
            "| 61|  1|  0|     148| 203|  0|      1|    161|    0|    0.0|    2|  1|   3|     0|\n",
            "| 62|  0|  0|     138| 294|  1|      1|    106|    0|    1.9|    1|  3|   2|     0|\n",
            "| 58|  0|  0|     100| 248|  0|      0|    122|    0|    1.0|    1|  0|   2|     1|\n",
            "| 58|  1|  0|     114| 318|  0|      2|    140|    0|    4.4|    0|  3|   1|     0|\n",
            "| 55|  1|  0|     160| 289|  0|      0|    145|    1|    0.8|    1|  1|   3|     0|\n",
            "| 46|  1|  0|     120| 249|  0|      0|    144|    0|    0.8|    2|  0|   3|     0|\n",
            "| 54|  1|  0|     122| 286|  0|      0|    116|    1|    3.2|    1|  2|   2|     0|\n",
            "| 71|  0|  0|     112| 149|  0|      1|    125|    0|    1.6|    1|  0|   2|     1|\n",
            "| 43|  0|  0|     132| 341|  1|      0|    136|    1|    3.0|    1|  0|   3|     0|\n",
            "| 34|  0|  1|     118| 210|  0|      1|    192|    0|    0.7|    2|  0|   2|     1|\n",
            "| 51|  1|  0|     140| 298|  0|      1|    122|    1|    4.2|    1|  3|   3|     0|\n",
            "| 52|  1|  0|     128| 204|  1|      1|    156|    1|    1.0|    1|  0|   0|     0|\n",
            "| 34|  0|  1|     118| 210|  0|      1|    192|    0|    0.7|    2|  0|   2|     1|\n",
            "| 51|  0|  2|     140| 308|  0|      0|    142|    0|    1.5|    2|  1|   2|     1|\n",
            "| 54|  1|  0|     124| 266|  0|      0|    109|    1|    2.2|    1|  1|   3|     0|\n",
            "| 50|  0|  1|     120| 244|  0|      1|    162|    0|    1.1|    2|  0|   2|     1|\n",
            "| 58|  1|  2|     140| 211|  1|      0|    165|    0|    0.0|    2|  0|   2|     1|\n",
            "+---+---+---+--------+----+---+-------+-------+-----+-------+-----+---+----+------+\n",
            "only showing top 20 rows\n",
            "\n"
          ]
        }
      ],
      "source": [
        "df = spark.read.csv('heart.csv' , header = True , inferSchema = True)\n",
        "df.show()"
      ]
    },
    {
      "cell_type": "code",
      "execution_count": null,
      "id": "7191023d",
      "metadata": {
        "id": "7191023d"
      },
      "outputs": [],
      "source": [
        "#rename the target column to label column\n",
        "df = df.withColumnRenamed(\"target\",\"label\")"
      ]
    },
    {
      "cell_type": "code",
      "execution_count": null,
      "id": "58cd486c",
      "metadata": {
        "id": "58cd486c",
        "outputId": "a5983ab5-57c6-4b99-c057-c9587661f7b2"
      },
      "outputs": [
        {
          "name": "stdout",
          "output_type": "stream",
          "text": [
            "root\n",
            " |-- age: integer (nullable = true)\n",
            " |-- sex: integer (nullable = true)\n",
            " |-- cp: integer (nullable = true)\n",
            " |-- trestbps: integer (nullable = true)\n",
            " |-- chol: integer (nullable = true)\n",
            " |-- fbs: integer (nullable = true)\n",
            " |-- restecg: integer (nullable = true)\n",
            " |-- thalach: integer (nullable = true)\n",
            " |-- exang: integer (nullable = true)\n",
            " |-- oldpeak: double (nullable = true)\n",
            " |-- slope: integer (nullable = true)\n",
            " |-- ca: integer (nullable = true)\n",
            " |-- thal: integer (nullable = true)\n",
            " |-- label: integer (nullable = true)\n",
            "\n"
          ]
        }
      ],
      "source": [
        "df.printSchema()"
      ]
    },
    {
      "cell_type": "code",
      "execution_count": null,
      "id": "083e5c65",
      "metadata": {
        "id": "083e5c65"
      },
      "outputs": [],
      "source": [
        "def label_graph(ticksfont , x_label , y_label , title_label , fontsize):\n",
        "\n",
        "    plt.xticks(fontsize = ticksfont)\n",
        "    plt.yticks(fontsize = ticksfont)\n",
        "\n",
        "    plt.xlabel(x_label, fontsize = fontsize)\n",
        "    plt.ylabel(y_label , fontsize = fontsize)\n",
        "    plt.title(title_label, fontsize = fontsize)"
      ]
    },
    {
      "cell_type": "markdown",
      "id": "74a5944f",
      "metadata": {
        "id": "74a5944f"
      },
      "source": [
        "If we want to visualize our data to help us understand and analyze it, we can use different libraries such as Seaborn, matplotlib and other libraries, but these libraries cannot be used directly with pyspark dataframes.\n",
        "\n",
        "So there are three different methods:\n",
        "- **pyspark_dist_explore :** library provides quick insights into Dataframes. currently have three functions\n",
        "`hist()` , `distplot()` , `pandas_histogram()`\n",
        "\n",
        "- **toPandas** : we convert pyspark dataframe to pandas dataframe to create charts using matplotlib and seaborn easliy\n",
        "\n",
        "- **HendySpark** : is a package designed to improve PySpark user experience\n",
        "\n",
        "we will use toPandas to visualize our data"
      ]
    },
    {
      "cell_type": "code",
      "execution_count": null,
      "id": "e7165465",
      "metadata": {
        "id": "e7165465",
        "outputId": "f15f14d2-a73e-4b8c-f638-943936f43b23"
      },
      "outputs": [
        {
          "data": {
            "text/html": [
              "<div>\n",
              "<style scoped>\n",
              "    .dataframe tbody tr th:only-of-type {\n",
              "        vertical-align: middle;\n",
              "    }\n",
              "\n",
              "    .dataframe tbody tr th {\n",
              "        vertical-align: top;\n",
              "    }\n",
              "\n",
              "    .dataframe thead th {\n",
              "        text-align: right;\n",
              "    }\n",
              "</style>\n",
              "<table border=\"1\" class=\"dataframe\">\n",
              "  <thead>\n",
              "    <tr style=\"text-align: right;\">\n",
              "      <th></th>\n",
              "      <th>age</th>\n",
              "      <th>sex</th>\n",
              "      <th>cp</th>\n",
              "      <th>trestbps</th>\n",
              "      <th>chol</th>\n",
              "      <th>fbs</th>\n",
              "      <th>restecg</th>\n",
              "      <th>thalach</th>\n",
              "      <th>exang</th>\n",
              "      <th>oldpeak</th>\n",
              "      <th>slope</th>\n",
              "      <th>ca</th>\n",
              "      <th>thal</th>\n",
              "      <th>label</th>\n",
              "    </tr>\n",
              "  </thead>\n",
              "  <tbody>\n",
              "    <tr>\n",
              "      <th>0</th>\n",
              "      <td>52</td>\n",
              "      <td>1</td>\n",
              "      <td>0</td>\n",
              "      <td>125</td>\n",
              "      <td>212</td>\n",
              "      <td>0</td>\n",
              "      <td>1</td>\n",
              "      <td>168</td>\n",
              "      <td>0</td>\n",
              "      <td>1.0</td>\n",
              "      <td>2</td>\n",
              "      <td>2</td>\n",
              "      <td>3</td>\n",
              "      <td>0</td>\n",
              "    </tr>\n",
              "    <tr>\n",
              "      <th>1</th>\n",
              "      <td>53</td>\n",
              "      <td>1</td>\n",
              "      <td>0</td>\n",
              "      <td>140</td>\n",
              "      <td>203</td>\n",
              "      <td>1</td>\n",
              "      <td>0</td>\n",
              "      <td>155</td>\n",
              "      <td>1</td>\n",
              "      <td>3.1</td>\n",
              "      <td>0</td>\n",
              "      <td>0</td>\n",
              "      <td>3</td>\n",
              "      <td>0</td>\n",
              "    </tr>\n",
              "    <tr>\n",
              "      <th>2</th>\n",
              "      <td>70</td>\n",
              "      <td>1</td>\n",
              "      <td>0</td>\n",
              "      <td>145</td>\n",
              "      <td>174</td>\n",
              "      <td>0</td>\n",
              "      <td>1</td>\n",
              "      <td>125</td>\n",
              "      <td>1</td>\n",
              "      <td>2.6</td>\n",
              "      <td>0</td>\n",
              "      <td>0</td>\n",
              "      <td>3</td>\n",
              "      <td>0</td>\n",
              "    </tr>\n",
              "    <tr>\n",
              "      <th>3</th>\n",
              "      <td>61</td>\n",
              "      <td>1</td>\n",
              "      <td>0</td>\n",
              "      <td>148</td>\n",
              "      <td>203</td>\n",
              "      <td>0</td>\n",
              "      <td>1</td>\n",
              "      <td>161</td>\n",
              "      <td>0</td>\n",
              "      <td>0.0</td>\n",
              "      <td>2</td>\n",
              "      <td>1</td>\n",
              "      <td>3</td>\n",
              "      <td>0</td>\n",
              "    </tr>\n",
              "    <tr>\n",
              "      <th>4</th>\n",
              "      <td>62</td>\n",
              "      <td>0</td>\n",
              "      <td>0</td>\n",
              "      <td>138</td>\n",
              "      <td>294</td>\n",
              "      <td>1</td>\n",
              "      <td>1</td>\n",
              "      <td>106</td>\n",
              "      <td>0</td>\n",
              "      <td>1.9</td>\n",
              "      <td>1</td>\n",
              "      <td>3</td>\n",
              "      <td>2</td>\n",
              "      <td>0</td>\n",
              "    </tr>\n",
              "  </tbody>\n",
              "</table>\n",
              "</div>"
            ],
            "text/plain": [
              "   age  sex  cp  trestbps  chol  fbs  restecg  thalach  exang  oldpeak  slope  \\\n",
              "0   52    1   0       125   212    0        1      168      0      1.0      2   \n",
              "1   53    1   0       140   203    1        0      155      1      3.1      0   \n",
              "2   70    1   0       145   174    0        1      125      1      2.6      0   \n",
              "3   61    1   0       148   203    0        1      161      0      0.0      2   \n",
              "4   62    0   0       138   294    1        1      106      0      1.9      1   \n",
              "\n",
              "   ca  thal  label  \n",
              "0   2     3      0  \n",
              "1   0     3      0  \n",
              "2   0     3      0  \n",
              "3   1     3      0  \n",
              "4   3     2      0  "
            ]
          },
          "execution_count": 48,
          "metadata": {},
          "output_type": "execute_result"
        }
      ],
      "source": [
        "panda_df = df.toPandas()\n",
        "panda_df.head()"
      ]
    },
    {
      "cell_type": "markdown",
      "id": "4869439a",
      "metadata": {
        "id": "4869439a"
      },
      "source": [
        "`cp` is an abbreviation for chest pain type (4 values)\n",
        "\n",
        "So, if we want to know what is the probability of a person having a heart attack if chest pain type is 2 or 3\n",
        "in this situation we can use PMFs"
      ]
    },
    {
      "cell_type": "markdown",
      "id": "fcced595",
      "metadata": {
        "id": "fcced595"
      },
      "source": [
        "#### What is Probability Mass Functions (PMFs) :\n",
        "**probability mass functions (PMFs)** used to represent a distribution , which maps from each value to its probability. A probability is a frequency expressed as a fraction of the sample size, n. To get from frequencies to probabilities, we divide through by n, which is called normalization . It is used with disceret variable"
      ]
    },
    {
      "cell_type": "code",
      "execution_count": null,
      "id": "b3ea8cf0",
      "metadata": {
        "id": "b3ea8cf0",
        "outputId": "2f51f046-1965-484c-9fff-3cedb386e243"
      },
      "outputs": [
        {
          "data": {
            "image/png": "[encoded data removed]",
            "text/plain": [
              "<Figure size 864x576 with 1 Axes>"
            ]
          },
          "metadata": {
            "needs_background": "light"
          },
          "output_type": "display_data"
        }
      ],
      "source": [
        "fig, ax = plt.subplots(figsize=(12,8))\n",
        "\n",
        "heart_attack = panda_df[panda_df['label'] == 1]\n",
        "pmf = Pmf.from_seq(heart_attack['cp'])\n",
        "pmf.bar()\n",
        "\n",
        "#convert x-axis from float to integer\n",
        "plt.locator_params(integer = True)\n",
        "\n",
        "plt.xticks(fontsize = 18)\n",
        "plt.yticks(fontsize = 18)\n",
        "plt.xlabel('chest pain type', fontsize = 20)\n",
        "plt.ylabel('PMF', fontsize = 20)\n",
        "\n",
        "label_graph(18 ,'chest pain type' ,  'PMF' , None , 20 )"
      ]
    },
    {
      "cell_type": "markdown",
      "id": "8d1535f6",
      "metadata": {
        "id": "8d1535f6"
      },
      "source": [
        "As we can see above, the probability of someone with level 2 chest pain having a heart attack is more than 40%."
      ]
    },
    {
      "cell_type": "markdown",
      "id": "8bf2d9a6",
      "metadata": {
        "id": "8bf2d9a6"
      },
      "source": [
        "We can see more detail:"
      ]
    },
    {
      "cell_type": "code",
      "execution_count": null,
      "id": "181fda7a",
      "metadata": {
        "id": "181fda7a",
        "outputId": "c3210f95-8321-4694-88d8-3187fb7e0348"
      },
      "outputs": [
        {
          "data": {
            "text/plain": [
              "<seaborn.axisgrid.FacetGrid at 0x2a863cff7f0>"
            ]
          },
          "execution_count": 28,
          "metadata": {},
          "output_type": "execute_result"
        },
        {
          "data": {
            "image/png": "[encoded data removed]",
            "text/plain": [
              "<Figure size 576x288 with 4 Axes>"
            ]
          },
          "metadata": {
            "needs_background": "light"
          },
          "output_type": "display_data"
        }
      ],
      "source": [
        "g = sns.FacetGrid(panda_df, col=\"cp\", height=4,aspect=.5,hue='label',palette='magma_r')\n",
        "g.map(sns.countplot, \"label\", order = panda_df['label'].value_counts().index)"
      ]
    },
    {
      "cell_type": "markdown",
      "id": "e76b97d9",
      "metadata": {
        "id": "e76b97d9"
      },
      "source": [
        "The number of patients with heart attack in all levels of chest pain is greater than the number of patients without heart attack except for level zero. This means that this variable has an effect on heart attack.\n",
        "We will explore whether this variable affects heart attack or not later"
      ]
    },
    {
      "cell_type": "markdown",
      "id": "fec6fe9d",
      "metadata": {
        "id": "fec6fe9d"
      },
      "source": [
        "**Question:** What if we wanted to know who has the greatest chance of having a heart attack, women or men?\n",
        "This is a Bernoulli distribution"
      ]
    },
    {
      "cell_type": "markdown",
      "id": "f00c2883",
      "metadata": {
        "id": "f00c2883"
      },
      "source": [
        "### Bernoulli Distribution\n",
        "This distribution is related to Binary classification . (i.e What is the probability that this person is sick or not? Or what is the probability that this customer will buy the product or not and so on)"
      ]
    },
    {
      "cell_type": "code",
      "execution_count": null,
      "id": "f2894717",
      "metadata": {
        "id": "f2894717",
        "outputId": "ddb5c338-a9f5-4694-db61-9b808651101f"
      },
      "outputs": [
        {
          "name": "stderr",
          "output_type": "stream",
          "text": [
            "C:\\Users\\Abdelrhman\\anaconda3\\lib\\site-packages\\seaborn\\_decorators.py:36: FutureWarning: Pass the following variables as keyword args: x, y. From version 0.12, the only valid positional argument will be `data`, and passing other arguments without an explicit keyword will result in an error or misinterpretation.\n",
            "  warnings.warn(\n"
          ]
        },
        {
          "data": {
            "image/png": "[encoded data removed]",
            "text/plain": [
              "<Figure size 864x576 with 1 Axes>"
            ]
          },
          "metadata": {
            "needs_background": "light"
          },
          "output_type": "display_data"
        }
      ],
      "source": [
        "fig, ax = plt.subplots(figsize=(12,8))\n",
        "\n",
        "\n",
        "# perform Bernoulli\n",
        "probabilities = heart_attack['sex'].value_counts(normalize=True)\n",
        "ax = sns.barplot(probabilities.index, probabilities.values, palette='PuBuGn_r')\n",
        "\n",
        "\n",
        "# to write percentage on the top of bar\n",
        "patches = ax.patches\n",
        "for i in range(len(patches)):\n",
        "    x = patches[i].get_x() + patches[i].get_width()/2\n",
        "    y = patches[i].get_height()+.001\n",
        "    ax.annotate('{:.1f}%'.format(y), (x, y), ha='center' , fontsize = 18)\n",
        "\n",
        "\n",
        "label_graph(18 ,'Sex' ,  'Probability'  , 'Chance of heart attack in women and men' ,  20 )"
      ]
    },
    {
      "cell_type": "markdown",
      "id": "a065250c",
      "metadata": {
        "id": "a065250c"
      },
      "source": [
        "It's clear that men have a higher chance than women of having a heart attack, but we want to see more detail from our data to find out why.\n",
        "\n",
        "Among the factors that we can look at if we are diagnosing a heart attack are:\n",
        "- Blood pressure level\n",
        "- Cholesterol level\n",
        "- Blood sugar level"
      ]
    },
    {
      "cell_type": "markdown",
      "id": "34e53dfe",
      "metadata": {
        "id": "34e53dfe"
      },
      "source": [
        "### Blood pressure level\n",
        "> According to **Centers for Disease Control and Preventation (CDC)** , high blood pressure is a major risk factor for heart disease. It is a medical condition that happens when the pressure of the blood in your arteries and other blood vessels is too high. The high pressure, if not controlled, can affect your heart and other major organs of your body, including your kidneys and brain.\n",
        "> - Some health care professionals diagnose patients with high blood pressure if their blood pressure is consistently 140/90 mm Hg or higher.2 This limit is based on a guideline released in 2003, as seen in the table below.\n",
        ">\n",
        ">\n",
        "> - Other health care professionals diagnose patients with high blood pressure if their blood pressure is consistently 130/80 mm Hg or higher.1 This limit is based on a guideline released in 2017, as seen in the table below.\n",
        "\n",
        "`trestbps` is an abbreviation for resting blood pressure"
      ]
    },
    {
      "cell_type": "code",
      "execution_count": null,
      "id": "2cbf7bff",
      "metadata": {
        "id": "2cbf7bff",
        "outputId": "fb82a680-6366-42ac-9874-ea06336c8ada"
      },
      "outputs": [
        {
          "data": {
            "text/plain": [
              "1    108\n",
              "0     98\n",
              "Name: sex, dtype: int64"
            ]
          },
          "execution_count": 96,
          "metadata": {},
          "output_type": "execute_result"
        }
      ],
      "source": [
        "high_blood_pressure = heart_attack[heart_attack['trestbps'] > 130]\n",
        "high_blood_pressure.sex.value_counts()"
      ]
    },
    {
      "cell_type": "code",
      "execution_count": null,
      "id": "a38c46cb",
      "metadata": {
        "id": "a38c46cb",
        "outputId": "c0c0ee88-28ed-49f9-bd20-d320966cfbcc"
      },
      "outputs": [
        {
          "data": {
            "image/png": "[encoded data removed]",
            "text/plain": [
              "<Figure size 864x576 with 1 Axes>"
            ]
          },
          "metadata": {
            "needs_background": "light"
          },
          "output_type": "display_data"
        }
      ],
      "source": [
        "fig, ax = plt.subplots(figsize=(12,8))\n",
        "\n",
        "# Generate plot\n",
        "sns.swarmplot(x='sex' , y = 'trestbps' , data = high_blood_pressure)\n",
        "\n",
        "#label axis\n",
        "label_graph(15 ,'sex' ,  'Blood pressure level'  , 'High Blood pressure level for both women and men' ,  15 )"
      ]
    },
    {
      "cell_type": "markdown",
      "id": "4763b450",
      "metadata": {
        "id": "4763b450"
      },
      "source": [
        "From the previous figure, women have a higher level of blood pressure than men, but the number of men who suffer from high blood pressure is greater than the number of women."
      ]
    },
    {
      "cell_type": "markdown",
      "id": "01506f67",
      "metadata": {
        "id": "01506f67"
      },
      "source": [
        "We can use another distribution to visualize our data\n",
        "\n",
        "#### Cumulative distribution functions (CDFs) :\n",
        ">**CDF** is another method to describe the distribution of continuous variables. The advantage of the CDF is that it can be defined for any kind of variable (discrete, continuous, and mixed)."
      ]
    },
    {
      "cell_type": "code",
      "execution_count": null,
      "id": "da7bf9b1",
      "metadata": {
        "id": "da7bf9b1",
        "outputId": "e97743c9-d9e9-4692-f2f9-a078f9ed5e57"
      },
      "outputs": [
        {
          "data": {
            "image/png": "[encoded data removed]",
            "text/plain": [
              "<Figure size 864x576 with 1 Axes>"
            ]
          },
          "metadata": {
            "needs_background": "light"
          },
          "output_type": "display_data"
        }
      ],
      "source": [
        "fig, ax = plt.subplots(figsize=(12,8))\n",
        "\n",
        "cdf = Cdf.from_seq(high_blood_pressure['trestbps'])\n",
        "cdf.plot()\n",
        "\n",
        "ax.annotate(\"60% of patients having blood pressure <= 140 \", xy=(140.5, 0.59), xytext=(145, 0.2) , fontsize = 15 ,\n",
        "            arrowprops={'arrowstyle': '-|>', 'lw': 2 , 'color' : 'b'})\n",
        "\n",
        "plt.plot(140, 0.59 , marker = 'o' , color = 'r' , markersize = 12)\n",
        "\n",
        "label_graph(18 ,'Blood pressure level' ,  'CDF'  , \" \" ,  20 )"
      ]
    },
    {
      "cell_type": "markdown",
      "id": "809036a4",
      "metadata": {
        "id": "809036a4"
      },
      "source": [
        "- 20% of patients with a heart attack have a blood pressure < 140\n",
        "- around 60% of patients with a heart attack have a blood pressure <= 140"
      ]
    },
    {
      "cell_type": "markdown",
      "id": "4d6412ad",
      "metadata": {
        "id": "4d6412ad"
      },
      "source": [
        "### Cholesterol level\n",
        "> According to **Centers for Disease Control and Preventation (CDC)** , Unhealthy blood cholesterol levels. Cholesterol is a waxy, fat-like substance made by the liver or found in certain foods. Your liver makes enough for your body’s needs, but we often get more cholesterol from the foods we eat.\n",
        ">\n",
        ">If we take in more cholesterol than the body can use, the extra cholesterol can build up in the walls of the arteries, including those of the heart. This leads to narrowing of the arteries and can decrease the blood flow to the heart, brain, kidneys, and other parts of the body"
      ]
    },
    {
      "cell_type": "markdown",
      "id": "87b21ab3",
      "metadata": {
        "id": "87b21ab3"
      },
      "source": [
        "![Total_cholesterol_7.5__mmol_L___290mg_dL_.png](attachment:Total_cholesterol_7.5__mmol_L___290mg_dL_.png)"
      ]
    },
    {
      "cell_type": "markdown",
      "id": "8885be3b",
      "metadata": {
        "id": "8885be3b"
      },
      "source": [
        "The high level of cholesterol in the blood does not quickly affect the heart, because the effect of cholesterol on the heart is in the long term, and therefore the high level of cholesterol does not cause us to worry at all. By consulting a doctor, taking treatment and eating healthy food, we can reduce this high level.\n",
        "Unlike high blood pressure, which can quickly affect the heart\n",
        "\n",
        "`chol` is serum cholestoral in mg/dl"
      ]
    },
    {
      "cell_type": "code",
      "execution_count": null,
      "id": "766393a4",
      "metadata": {
        "id": "766393a4",
        "outputId": "5336d056-f4b0-4533-d412-511ce45e32bb"
      },
      "outputs": [
        {
          "data": {
            "text/plain": [
              "sex  label\n",
              "0    1        123\n",
              "     0         61\n",
              "1    0        220\n",
              "     1         99\n",
              "Name: label, dtype: int64"
            ]
          },
          "execution_count": 51,
          "metadata": {},
          "output_type": "execute_result"
        }
      ],
      "source": [
        "#Calculating the number of people with high blood cholesterol\n",
        "heart_attack_chol = panda_df[panda_df['chol'] > 240]\n",
        "heart_attack_chol.groupby(['sex'])['label'].value_counts()"
      ]
    },
    {
      "cell_type": "markdown",
      "id": "70a6eb5b",
      "metadata": {
        "id": "70a6eb5b"
      },
      "source": [
        "#### Empirical Cumulative distribution Function (ECDF)\n",
        "\n",
        ">What is **ECDF** ?\n",
        ">\n",
        ">The empirical CDF is a step function that asymptotically approaches 0 and 1 on the vertical Y-axis. It’s empirical because it represents your observed values and the corresponding data percentiles"
      ]
    },
    {
      "cell_type": "code",
      "execution_count": null,
      "id": "ab1daae2",
      "metadata": {
        "id": "ab1daae2"
      },
      "outputs": [],
      "source": [
        "  def ecdf(data):\n",
        "    \"\"\"Compute ECDF for a one-dimensional array of measurements.\"\"\"\n",
        "    # Number of data points: n\n",
        "    n = len(data)\n",
        "\n",
        "    # x-data for the ECDF: x\n",
        "    x = np.sort(data)\n",
        "\n",
        "    # y-data for the ECDF: y\n",
        "    y = np.arange(1, n+1) / n\n",
        "\n",
        "    return x, y\n",
        ""
      ]
    },
    {
      "cell_type": "code",
      "execution_count": null,
      "id": "15d3a7a5",
      "metadata": {
        "id": "15d3a7a5",
        "outputId": "172205d6-cd02-4a50-ea2e-f785b5c5c52f"
      },
      "outputs": [
        {
          "data": {
            "image/png": "[encoded data removed]",
            "text/plain": [
              "<Figure size 720x432 with 1 Axes>"
            ]
          },
          "metadata": {
            "needs_background": "light"
          },
          "output_type": "display_data"
        }
      ],
      "source": [
        "fig, ax = plt.subplots(figsize=(10,6))\n",
        "\n",
        "heart_attack_m = heart_attack_chol[heart_attack_chol['sex'] == 1]\n",
        "heart_attack_f = heart_attack_chol[heart_attack_chol['sex'] == 0]\n",
        "\n",
        "\n",
        "m_chol, y_m = ecdf(heart_attack_m['chol'])\n",
        "f_chol, y_f = ecdf(heart_attack_f['chol'])\n",
        "\n",
        "# Generate plot\n",
        "plt.plot(m_chol, y_m, marker='.', linestyle='none' , label = 'Male')\n",
        "plt.plot(f_chol, y_f, marker='.', linestyle='none' , label = 'Female')\n",
        "\n",
        "# Label the axes\n",
        "plt.legend(fontsize = 13)\n",
        "label_graph(15 ,'Cholesterol level' ,  'ECDF'  , 'High cholesterol level for both women and men' ,  15 )"
      ]
    },
    {
      "cell_type": "markdown",
      "id": "86917061",
      "metadata": {
        "id": "86917061"
      },
      "source": [
        "From the previous figure, women have a higher level of cholesterol than men"
      ]
    },
    {
      "cell_type": "markdown",
      "id": "6c63c4b0",
      "metadata": {
        "id": "6c63c4b0"
      },
      "source": [
        "### Blood suger level\n",
        ">`fbs` is a fasting blood sugar > 120 mg/dl\n",
        ">\n",
        ">According to **Centers for Disease Control and Preventation (CDC)** , high blood sugar can damage blood vessels and the nerves that control your heart. **fasting blood sugar test** measures your blood sugar after an overnight fast (not eating).\n",
        "> - A fasting blood sugar level of 99 mg/dL or lower is normal\n",
        "> - 100 to 125 mg/dL indicates you have prediabetes\n",
        "> - and 126 mg/dL or higher indicates you have diabetes.\n",
        ">\n",
        ">According to **National Institute of Diabetes and Digestive and Kideny Diseases (NIDDK)** , Having diabetes means you are more likely to develop heart disease"
      ]
    },
    {
      "cell_type": "code",
      "execution_count": null,
      "id": "4b954633",
      "metadata": {
        "id": "4b954633",
        "outputId": "dcc43beb-e674-498b-e84f-dd844f10976a"
      },
      "outputs": [
        {
          "data": {
            "text/html": [
              "<div>\n",
              "<style scoped>\n",
              "    .dataframe tbody tr th:only-of-type {\n",
              "        vertical-align: middle;\n",
              "    }\n",
              "\n",
              "    .dataframe tbody tr th {\n",
              "        vertical-align: top;\n",
              "    }\n",
              "\n",
              "    .dataframe thead th {\n",
              "        text-align: right;\n",
              "    }\n",
              "</style>\n",
              "<table border=\"1\" class=\"dataframe\">\n",
              "  <thead>\n",
              "    <tr style=\"text-align: right;\">\n",
              "      <th>sex</th>\n",
              "      <th>0</th>\n",
              "      <th>1</th>\n",
              "    </tr>\n",
              "    <tr>\n",
              "      <th>fbs</th>\n",
              "      <th></th>\n",
              "      <th></th>\n",
              "    </tr>\n",
              "  </thead>\n",
              "  <tbody>\n",
              "    <tr>\n",
              "      <th>0</th>\n",
              "      <td>270</td>\n",
              "      <td>602</td>\n",
              "    </tr>\n",
              "    <tr>\n",
              "      <th>1</th>\n",
              "      <td>42</td>\n",
              "      <td>111</td>\n",
              "    </tr>\n",
              "  </tbody>\n",
              "</table>\n",
              "</div>"
            ],
            "text/plain": [
              "sex    0    1\n",
              "fbs          \n",
              "0    270  602\n",
              "1     42  111"
            ]
          },
          "execution_count": 60,
          "metadata": {},
          "output_type": "execute_result"
        }
      ],
      "source": [
        "fasting_blood_sugar = panda_df.groupby(['fbs'])['sex'].value_counts().unstack().fillna(0)\n",
        "fasting_blood_sugar"
      ]
    },
    {
      "cell_type": "markdown",
      "id": "a9e9d1c9",
      "metadata": {
        "id": "a9e9d1c9"
      },
      "source": [
        "As we can see from this table there are :\n",
        "- 42 women who have diabetes or prediabetes\n",
        "- 111 men had diabetes or prediabetes"
      ]
    },
    {
      "cell_type": "code",
      "execution_count": null,
      "id": "f3942643",
      "metadata": {
        "id": "f3942643",
        "outputId": "d463375d-4434-4eb2-d1ba-8fd035ef9398"
      },
      "outputs": [
        {
          "data": {
            "text/plain": [
              "<matplotlib.legend.Legend at 0x2059a098d60>"
            ]
          },
          "execution_count": 74,
          "metadata": {},
          "output_type": "execute_result"
        },
        {
          "data": {
            "image/png": "[encoded data removed]",
            "text/plain": [
              "<Figure size 864x576 with 1 Axes>"
            ]
          },
          "metadata": {
            "needs_background": "light"
          },
          "output_type": "display_data"
        }
      ],
      "source": [
        "fasting_blood_sugar.plot(kind='bar', stacked=True , figsize=(12, 8))\n",
        "label_graph(18 ,'fasting blood suger' ,  'Nnmber of patients' , None , 20 )\n",
        "plt.legend(['Female' , 'Male'], fontsize = 17)\n"
      ]
    },
    {
      "cell_type": "code",
      "execution_count": null,
      "id": "794b51f7",
      "metadata": {
        "id": "794b51f7",
        "outputId": "1fb06c63-9bbe-4158-c9d3-a1b3831e7024"
      },
      "outputs": [
        {
          "data": {
            "text/plain": [
              "sex\n",
              "0    54.628319\n",
              "1    50.736667\n",
              "Name: age, dtype: float64"
            ]
          },
          "execution_count": 176,
          "metadata": {},
          "output_type": "execute_result"
        }
      ],
      "source": [
        "#Average age of the patients\n",
        "heart_attack.groupby(['sex'])['age'].mean()"
      ]
    },
    {
      "cell_type": "code",
      "execution_count": null,
      "id": "07e2359f",
      "metadata": {
        "id": "07e2359f",
        "outputId": "d3530aec-b32f-474e-c075-26f2eb9638ae"
      },
      "outputs": [
        {
          "data": {
            "text/plain": [
              "<seaborn.axisgrid.FacetGrid at 0x20599e8f310>"
            ]
          },
          "execution_count": 174,
          "metadata": {},
          "output_type": "execute_result"
        },
        {
          "data": {
            "image/png": "[encoded data removed]",
            "text/plain": [
              "<Figure size 720x360 with 2 Axes>"
            ]
          },
          "metadata": {
            "needs_background": "light"
          },
          "output_type": "display_data"
        }
      ],
      "source": [
        "sns.displot(heart_attack, x=\"age\", col=\"sex\")"
      ]
    },
    {
      "cell_type": "markdown",
      "id": "41d93494",
      "metadata": {
        "id": "41d93494"
      },
      "source": [
        "Almost all patients are women and men between the ages of 40 and 60"
      ]
    },
    {
      "cell_type": "markdown",
      "id": "907b8149",
      "metadata": {
        "id": "907b8149"
      },
      "source": [
        "### Deteremine important factors\n",
        "\n",
        "#### Chi Square distribution\n",
        "if we want to see the correlation between two continuous numerical variables, we can either use visualizations or calculate Pearson's coefficient.\n",
        "\n",
        "But what if we want to know the correlation between two categorical variables? In this case, we can use the chi-Square distribution\n",
        "\n",
        "There are two types of Chi-Square :\n",
        "\n",
        "- chi square test of independences\n",
        "\n",
        "- chi square goodness of fit test\n",
        "\n",
        "We will use the first type to find out how related the two categorical variables are. Before we dive into this type\n",
        "\n",
        "There are two types of Categorical variable :\n",
        "\n",
        "**1- ordinal :** This type will be a rank such as your grades in exams or scientific degrees, i.e. a doctorate, master, bachelor or bachelor, and so on.\n",
        "\n",
        "**2- nominal :** As for this type, it is any categorical variable such as gender, colors, types of dogs and cats, and so on\n",
        "We use chi-Square with nominal categorical variables\n",
        "\n",
        "to implement a Chi-Square test We need to define three things\n",
        "\n",
        "**1- We define the hypothesis, i.e. we assume that the two variables are not correlated or independent of each other The first hypothesis is called Null hypothesis or H0 , We also determine the alternative hypothesis or H1 in the case of that the first hypothesis was false and in which we assume that the two variables are correlated**\n",
        "\n",
        "**2- Determine the value of the alpha, and this value of alpha means the amount of error or risk allowed in the experiment. The value of the alpha is usually one of the following three values**\n",
        "\n",
        "**3- calculate p-value and calculate this value by :**\n",
        "\n",
        "- chi-Square Score\n",
        "\n",
        "- The degree of freedom and the degree of freedom = (Number of column -1) * (Number of row -1 )\n",
        "\n",
        "\n",
        "If p-vale is less than or equal to the value of the alpha that you specified previously , we will reject the H0 (Null hypothesis) and accept the H1 (Alternate hypothesis), meaning that the two variables are correlated.\n",
        "\n",
        "And if p-value is greater than the value of alpha, we will accept the H0 (Null hypothesis) , and the two variables are independent of each other or not correlated."
      ]
    },
    {
      "cell_type": "code",
      "execution_count": null,
      "id": "702ba72a",
      "metadata": {
        "id": "702ba72a"
      },
      "outputs": [],
      "source": [
        "def correlation(category):\n",
        "    data_crosstab = pd.crosstab(panda_df[category] , panda_df['label'])\n",
        "    alpha = 0.05\n",
        "\n",
        "    chi_score, p, dof, expected = stats.chi2_contingency(data_crosstab)\n",
        "    critical_value = stats.chi2.ppf(1-alpha , df = dof)\n",
        "\n",
        "# chi square using p-value\n",
        "    print(\"p value is \" + str(p))\n",
        "    if p <= alpha:\n",
        "        print('Two categorical variables are correlated (Reject H0)')\n",
        "    else:\n",
        "        print('Two categorical variables are not correlated (Accept H0)')"
      ]
    },
    {
      "cell_type": "code",
      "execution_count": null,
      "id": "507b2b73",
      "metadata": {
        "id": "507b2b73",
        "outputId": "a20288ae-ccc6-400c-e233-d89b6f676cd2"
      },
      "outputs": [
        {
          "name": "stdout",
          "output_type": "stream",
          "text": [
            "sex\n",
            "p value is 6.656820681726434e-19\n",
            "Two categorical variables are correlated (Reject H0)\n",
            "________________________________________\n",
            "cp\n",
            "p value is 1.2980664694820452e-60\n",
            "Two categorical variables are correlated (Reject H0)\n",
            "________________________________________\n",
            "fbs\n",
            "p value is 0.21862413102893974\n",
            "Two categorical variables are not correlated (Accept H0)\n",
            "________________________________________\n",
            "restecg\n",
            "p value is 1.6964251003877617e-08\n",
            "Two categorical variables are correlated (Reject H0)\n",
            "________________________________________\n",
            "exang\n",
            "p value is 2.8266374296634637e-44\n",
            "Two categorical variables are correlated (Reject H0)\n",
            "________________________________________\n",
            "slope\n",
            "p value is 1.421085239254566e-34\n",
            "Two categorical variables are correlated (Reject H0)\n",
            "________________________________________\n",
            "ca\n",
            "p value is 1.747013451046176e-54\n",
            "Two categorical variables are correlated (Reject H0)\n",
            "________________________________________\n"
          ]
        }
      ],
      "source": [
        "categories = ['sex' , 'cp' , 'fbs' , 'restecg' , 'exang' , 'slope' , 'ca']\n",
        "\n",
        "for i in categories :\n",
        "    print(i)\n",
        "    correlation(i)\n",
        "    print('_'*40)"
      ]
    },
    {
      "cell_type": "markdown",
      "id": "6b721bca",
      "metadata": {
        "id": "6b721bca"
      },
      "source": [
        "Except fbs variable, the rest of the variables are considered important factors"
      ]
    },
    {
      "cell_type": "code",
      "execution_count": null,
      "id": "c4d7aa26",
      "metadata": {
        "id": "c4d7aa26"
      },
      "outputs": [],
      "source": [
        "df = df.drop('fbs' , 'thal')"
      ]
    },
    {
      "cell_type": "markdown",
      "id": "b740701d",
      "metadata": {
        "id": "b740701d"
      },
      "source": [
        "### Scaling data\n",
        ">in the machine learning algorithms if the values of the features are closer to each other there are chances for the algorithm to get trained well and faster instead of the data set where the data points or features values have high differences with each other will take more time to understand the data and the accuracy will be lower.\n",
        "So if the data in any conditions has data points far from each other, scaling is a technique to make them closer to each other or in simpler words, we can say that the scaling is used for making data points generalized so that the distance between them will be lower. There are many techniques to do scaling such as :\n",
        ">- MinMax scaling\n",
        ">- RobustScaler\n",
        ">- Standardizations (we will use it in our project)\n",
        ">- Normalize"
      ]
    },
    {
      "cell_type": "markdown",
      "id": "1abef338",
      "metadata": {
        "id": "1abef338"
      },
      "source": [
        "### What is Standardizations ?\n",
        "\n",
        "**Standardizations or Z-transforming** is the process of shifiting and scaling our data to better resemble a standard normal distribution, which has mean of 0 and standar deviation of 1  \n",
        "\n",
        "![download.png](attachment:download.png)"
      ]
    },
    {
      "cell_type": "markdown",
      "id": "d5798c60",
      "metadata": {
        "id": "d5798c60"
      },
      "source": [
        "The equation of Standardizations is :\n",
        "\n",
        "![download.jpg](attachment:download.jpg)"
      ]
    },
    {
      "cell_type": "code",
      "execution_count": null,
      "id": "d3575f0f",
      "metadata": {
        "id": "d3575f0f"
      },
      "outputs": [],
      "source": [
        "continuous_features = ['age' ,'trestbps', 'chol' , 'thalach' ,'oldpeak' ]\n",
        "assembler1 = VectorAssembler(inputCols=continuous_features, outputCol=\"features_scaled1\")\n",
        "scaler = StandardScaler(inputCol=\"features_scaled1\", outputCol=\"features_scaled\")"
      ]
    },
    {
      "cell_type": "code",
      "execution_count": null,
      "id": "e9955a7b",
      "metadata": {
        "id": "e9955a7b"
      },
      "outputs": [],
      "source": [
        "assembler2 = VectorAssembler(inputCols=['sex', 'cp', 'restecg', 'slope', 'exang', 'ca','features_scaled'],\n",
        "                             outputCol=\"features\")"
      ]
    },
    {
      "cell_type": "code",
      "execution_count": null,
      "id": "27f17b09",
      "metadata": {
        "id": "27f17b09"
      },
      "outputs": [],
      "source": [
        "testDF, trainDF = df.randomSplit([0.3, 0.7])"
      ]
    },
    {
      "cell_type": "code",
      "execution_count": null,
      "id": "b064745a",
      "metadata": {
        "id": "b064745a"
      },
      "outputs": [],
      "source": [
        "lr = LogisticRegression(featuresCol=\"features\" , labelCol='label' , maxIter=10, regParam= 0.01)"
      ]
    },
    {
      "cell_type": "code",
      "execution_count": null,
      "id": "dccc52ff",
      "metadata": {
        "id": "dccc52ff",
        "outputId": "ed3ff594-ff7a-4ea3-d88f-69b3fee64a83"
      },
      "outputs": [
        {
          "name": "stdout",
          "output_type": "stream",
          "text": [
            "+-----+--------------------+----------+\n",
            "|label|         probability|prediction|\n",
            "+-----+--------------------+----------+\n",
            "|    1|[0.01436610719133...|       1.0|\n",
            "|    1|[0.01436610719133...|       1.0|\n",
            "|    1|[0.02388044103730...|       1.0|\n",
            "|    1|[0.02388044103730...|       1.0|\n",
            "|    1|[0.05677367728276...|       1.0|\n",
            "|    1|[0.05677367728276...|       1.0|\n",
            "|    0|[0.80763335782001...|       0.0|\n",
            "|    0|[0.80763335782001...|       0.0|\n",
            "|    1|[0.33379889614371...|       1.0|\n",
            "|    0|[0.31448226057040...|       1.0|\n",
            "|    1|[0.00493582040250...|       1.0|\n",
            "|    1|[0.00493582040250...|       1.0|\n",
            "|    1|[0.03164767401230...|       1.0|\n",
            "|    0|[0.54661654646778...|       0.0|\n",
            "|    0|[0.54661654646778...|       0.0|\n",
            "|    0|[0.23160027956680...|       1.0|\n",
            "|    1|[0.02800178548065...|       1.0|\n",
            "|    1|[0.05570632436315...|       1.0|\n",
            "|    1|[0.14176643373913...|       1.0|\n",
            "|    1|[0.05532867785260...|       1.0|\n",
            "+-----+--------------------+----------+\n",
            "only showing top 20 rows\n",
            "\n"
          ]
        }
      ],
      "source": [
        "pipeline = Pipeline(stages= [assembler1 , scaler , assembler2 , lr])\n",
        "# We fit the model using the training data.\n",
        "pModel = pipeline.fit(trainDF)\n",
        "# We transform the data.\n",
        "Prediction = pModel.transform(testDF)\n",
        "# # We select the actual label, probability and predictions\n",
        "Prediction.select('label','probability','prediction').show()"
      ]
    },
    {
      "cell_type": "code",
      "execution_count": null,
      "id": "0c07b7a3",
      "metadata": {
        "id": "0c07b7a3",
        "outputId": "f4c9dcea-d072-4dd2-a406-fa68ccf43051"
      },
      "outputs": [
        {
          "data": {
            "text/plain": [
              "0.8445945945945946"
            ]
          },
          "execution_count": 189,
          "metadata": {},
          "output_type": "execute_result"
        }
      ],
      "source": [
        "evaluator = MulticlassClassificationEvaluator()\n",
        "evaluator.evaluate(Prediction, {evaluator.metricName: 'accuracy'})"
      ]
    },
    {
      "cell_type": "markdown",
      "id": "edbe93b1",
      "metadata": {
        "id": "edbe93b1"
      },
      "source": [
        "### Conclusion :\n",
        "- We have explored some of the data visually and explained some medical terminology\n",
        "- After that, we identified the most important variables that could affect the heart attack prediction process\n",
        "- Finally, we used an logistic regression algorithm to classify patients"
      ]
    }
  ],
  "metadata": {
    "kernelspec": {
      "display_name": "Python 3 (ipykernel)",
      "language": "python",
      "name": "python3"
    },
    "language_info": {
      "codemirror_mode": {
        "name": "ipython",
        "version": 3
      },
      "file_extension": ".py",
      "mimetype": "text/x-python",
      "name": "python",
      "nbconvert_exporter": "python",
      "pygments_lexer": "ipython3",
      "version": "3.9.7"
    },
    "colab": {
      "provenance": []
    }
  },
  "nbformat": 4,
  "nbformat_minor": 5
}